{
 "cells": [
  {
   "cell_type": "code",
   "execution_count": 83,
   "metadata": {
    "colab": {},
    "colab_type": "code",
    "id": "dzLKpmZICaWN"
   },
   "outputs": [
    {
     "name": "stdout",
     "output_type": "stream",
     "text": [
      "2.0.0\n"
     ]
    }
   ],
   "source": [
    "from __future__ import absolute_import, division, print_function, unicode_literals\n",
    "\n",
    "# TensorFlow and tf.keras\n",
    "import tensorflow as tf\n",
    "from tensorflow import keras\n",
    "\n",
    "# Helper libraries\n",
    "import numpy as np\n",
    "import pandas as pd\n",
    "import matplotlib.pyplot as plt\n",
    "\n",
    "print(tf.__version__)"
   ]
  },
  {
   "cell_type": "markdown",
   "metadata": {
    "colab_type": "text",
    "id": "yR0EdgrLCaWR"
   },
   "source": [
    "## Import the Fashion MNIST dataset"
   ]
  },
  {
   "cell_type": "markdown",
   "metadata": {
    "colab_type": "text",
    "id": "DLdCchMdCaWQ"
   },
   "source": [
    "This guide uses the [Fashion MNIST](https://github.com/zalandoresearch/fashion-mnist) dataset which contains 70,000 grayscale images in 10 categories. The images show individual articles of clothing at low resolution (28 by 28 pixels), as seen here:\n",
    "\n",
    "<table>\n",
    "  <tr><td>\n",
    "    <img src=\"https://tensorflow.org/images/fashion-mnist-sprite.png\"\n",
    "         alt=\"Fashion MNIST sprite\"  width=\"600\">\n",
    "  </td></tr>\n",
    "  <tr><td align=\"center\">\n",
    "    <b>Figure 1.</b> <a href=\"https://github.com/zalandoresearch/fashion-mnist\">Fashion-MNIST samples</a> (by Zalando, MIT License).<br/>&nbsp;\n",
    "  </td></tr>\n",
    "</table>\n",
    "\n",
    "Fashion MNIST is intended as a drop-in replacement for the classic [MNIST](http://yann.lecun.com/exdb/mnist/) dataset—often used as the \"Hello, World\" of machine learning programs for computer vision. The MNIST dataset contains images of handwritten digits (0, 1, 2, etc.) in a format identical to that of the articles of clothing you'll use here.\n",
    "\n",
    "This guide uses Fashion MNIST for variety, and because it's a slightly more challenging problem than regular MNIST. Both datasets are relatively small and are used to verify that an algorithm works as expected. They're good starting points to test and debug code.\n",
    "\n",
    "Here, 60,000 images are used to train the network and 10,000 images to evaluate how accurately the network learned to classify images. You can access the Fashion MNIST directly from TensorFlow. Import and load the Fashion MNIST data directly from TensorFlow:"
   ]
  },
  {
   "cell_type": "code",
   "execution_count": 3,
   "metadata": {
    "colab": {},
    "colab_type": "code",
    "id": "7MqDQO0KCaWS"
   },
   "outputs": [
    {
     "name": "stdout",
     "output_type": "stream",
     "text": [
      "Downloading data from https://storage.googleapis.com/tensorflow/tf-keras-datasets/train-labels-idx1-ubyte.gz\n",
      "32768/29515 [=================================] - 0s 3us/step\n",
      "Downloading data from https://storage.googleapis.com/tensorflow/tf-keras-datasets/train-images-idx3-ubyte.gz\n",
      "26427392/26421880 [==============================] - 83s 3us/step\n",
      "Downloading data from https://storage.googleapis.com/tensorflow/tf-keras-datasets/t10k-labels-idx1-ubyte.gz\n",
      "8192/5148 [===============================================] - 0s 0us/step\n",
      "Downloading data from https://storage.googleapis.com/tensorflow/tf-keras-datasets/t10k-images-idx3-ubyte.gz\n",
      "4423680/4422102 [==============================] - 27s 6us/step\n"
     ]
    }
   ],
   "source": [
    "fashion_mnist = keras.datasets.fashion_mnist\n",
    "\n",
    "(train_images, train_labels), (test_images, test_labels) = fashion_mnist.load_data()"
   ]
  },
  {
   "cell_type": "markdown",
   "metadata": {
    "colab_type": "text",
    "id": "t9FDsUlxCaWW"
   },
   "source": [
    "Loading the dataset returns four NumPy arrays:\n",
    "\n",
    "* The `train_images` and `train_labels` arrays are the *training set*—the data the model uses to learn.\n",
    "* The model is tested against the *test set*, the `test_images`, and `test_labels` arrays.\n",
    "\n",
    "The images are 28x28 NumPy arrays, with pixel values ranging from 0 to 255. The *labels* are an array of integers, ranging from 0 to 9. These correspond to the *class* of clothing the image represents:\n",
    "\n",
    "<table>\n",
    "  <tr>\n",
    "    <th>Label</th>\n",
    "    <th>Class</th>\n",
    "  </tr>\n",
    "  <tr>\n",
    "    <td>0</td>\n",
    "    <td>T-shirt/top</td>\n",
    "  </tr>\n",
    "  <tr>\n",
    "    <td>1</td>\n",
    "    <td>Trouser</td>\n",
    "  </tr>\n",
    "    <tr>\n",
    "    <td>2</td>\n",
    "    <td>Pullover</td>\n",
    "  </tr>\n",
    "    <tr>\n",
    "    <td>3</td>\n",
    "    <td>Dress</td>\n",
    "  </tr>\n",
    "    <tr>\n",
    "    <td>4</td>\n",
    "    <td>Coat</td>\n",
    "  </tr>\n",
    "    <tr>\n",
    "    <td>5</td>\n",
    "    <td>Sandal</td>\n",
    "  </tr>\n",
    "    <tr>\n",
    "    <td>6</td>\n",
    "    <td>Shirt</td>\n",
    "  </tr>\n",
    "    <tr>\n",
    "    <td>7</td>\n",
    "    <td>Sneaker</td>\n",
    "  </tr>\n",
    "    <tr>\n",
    "    <td>8</td>\n",
    "    <td>Bag</td>\n",
    "  </tr>\n",
    "    <tr>\n",
    "    <td>9</td>\n",
    "    <td>Ankle boot</td>\n",
    "  </tr>\n",
    "</table>\n",
    "\n",
    "Each image is mapped to a single label. Since the *class names* are not included with the dataset, store them here to use later when plotting the images:"
   ]
  },
  {
   "cell_type": "code",
   "execution_count": 4,
   "metadata": {
    "colab": {},
    "colab_type": "code",
    "id": "IjnLH5S2CaWx"
   },
   "outputs": [],
   "source": [
    "class_names = ['T-shirt/top', 'Trouser', 'Pullover', 'Dress', 'Coat',\n",
    "               'Sandal', 'Shirt', 'Sneaker', 'Bag', 'Ankle boot']"
   ]
  },
  {
   "cell_type": "markdown",
   "metadata": {
    "colab_type": "text",
    "id": "Brm0b_KACaWX"
   },
   "source": [
    "## Explore the data\n",
    "\n",
    "Let's explore the format of the dataset before training the model. The following shows there are 60,000 images in the training set, with each image represented as 28 x 28 pixels:"
   ]
  },
  {
   "cell_type": "code",
   "execution_count": 5,
   "metadata": {
    "colab": {},
    "colab_type": "code",
    "id": "zW5k_xz1CaWX"
   },
   "outputs": [
    {
     "data": {
      "text/plain": [
       "(60000, 28, 28)"
      ]
     },
     "execution_count": 5,
     "metadata": {},
     "output_type": "execute_result"
    }
   ],
   "source": [
    "train_images.shape"
   ]
  },
  {
   "cell_type": "markdown",
   "metadata": {
    "colab_type": "text",
    "id": "cIAcvQqMCaWf"
   },
   "source": [
    "Likewise, there are 60,000 labels in the training set:"
   ]
  },
  {
   "cell_type": "code",
   "execution_count": 6,
   "metadata": {
    "colab": {},
    "colab_type": "code",
    "id": "TRFYHB2mCaWb"
   },
   "outputs": [
    {
     "data": {
      "text/plain": [
       "60000"
      ]
     },
     "execution_count": 6,
     "metadata": {},
     "output_type": "execute_result"
    }
   ],
   "source": [
    "len(train_labels)"
   ]
  },
  {
   "cell_type": "markdown",
   "metadata": {
    "colab_type": "text",
    "id": "YSlYxFuRCaWk"
   },
   "source": [
    "Each label is an integer between 0 and 9:"
   ]
  },
  {
   "cell_type": "code",
   "execution_count": 7,
   "metadata": {
    "colab": {},
    "colab_type": "code",
    "id": "XKnCTHz4CaWg"
   },
   "outputs": [
    {
     "data": {
      "text/plain": [
       "array([9, 0, 0, ..., 3, 0, 5], dtype=uint8)"
      ]
     },
     "execution_count": 7,
     "metadata": {},
     "output_type": "execute_result"
    }
   ],
   "source": [
    "train_labels"
   ]
  },
  {
   "cell_type": "markdown",
   "metadata": {
    "colab_type": "text",
    "id": "TMPI88iZpO2T"
   },
   "source": [
    "There are 10,000 images in the test set. Again, each image is represented as 28 x 28 pixels:"
   ]
  },
  {
   "cell_type": "code",
   "execution_count": 8,
   "metadata": {
    "colab": {},
    "colab_type": "code",
    "id": "2KFnYlcwCaWl"
   },
   "outputs": [
    {
     "data": {
      "text/plain": [
       "(10000, 28, 28)"
      ]
     },
     "execution_count": 8,
     "metadata": {},
     "output_type": "execute_result"
    }
   ],
   "source": [
    "test_images.shape"
   ]
  },
  {
   "cell_type": "markdown",
   "metadata": {
    "colab_type": "text",
    "id": "rd0A0Iu0CaWq"
   },
   "source": [
    "And the test set contains 10,000 images labels:"
   ]
  },
  {
   "cell_type": "code",
   "execution_count": 11,
   "metadata": {
    "colab": {},
    "colab_type": "code",
    "id": "iJmPr5-ACaWn"
   },
   "outputs": [
    {
     "data": {
      "text/plain": [
       "10000"
      ]
     },
     "execution_count": 11,
     "metadata": {},
     "output_type": "execute_result"
    }
   ],
   "source": [
    "len(test_labels)"
   ]
  },
  {
   "cell_type": "markdown",
   "metadata": {
    "colab_type": "text",
    "id": "ES6uQoLKCaWr"
   },
   "source": [
    "## Preprocess the data\n",
    "\n",
    "The data must be preprocessed before training the network. If you inspect the first image in the training set, you will see that the pixel values fall in the range of 0 to 255:"
   ]
  },
  {
   "cell_type": "code",
   "execution_count": 9,
   "metadata": {
    "colab": {},
    "colab_type": "code",
    "id": "m4VEw8Ud9Quh"
   },
   "outputs": [
    {
     "data": {
      "image/png": "[encoded data removed]",
      "text/plain": [
       "<Figure size 432x288 with 2 Axes>"
      ]
     },
     "metadata": {
      "needs_background": "light"
     },
     "output_type": "display_data"
    }
   ],
   "source": [
    "plt.figure()\n",
    "plt.imshow(train_images[0])\n",
    "plt.colorbar()\n",
    "plt.grid(False)\n",
    "plt.show()"
   ]
  },
  {
   "cell_type": "markdown",
   "metadata": {
    "colab_type": "text",
    "id": "Wz7l27Lz9S1P"
   },
   "source": [
    "Scale these values to a range of 0 to 1 before feeding them to the neural network model. To do so, divide the values by 255. It's important that the *training set* and the *testing set* be preprocessed in the same way:"
   ]
  },
  {
   "cell_type": "code",
   "execution_count": 10,
   "metadata": {
    "colab": {},
    "colab_type": "code",
    "id": "bW5WzIPlCaWv"
   },
   "outputs": [],
   "source": [
    "train_images = train_images / 255.0\n",
    "\n",
    "test_images = test_images / 255.0"
   ]
  },
  {
   "cell_type": "markdown",
   "metadata": {
    "colab_type": "text",
    "id": "Ee638AlnCaWz"
   },
   "source": [
    "To verify that the data is in the correct format and that you're ready to build and train the network, let's display the first 25 images from the *training set* and display the class name below each image."
   ]
  },
  {
   "cell_type": "code",
   "execution_count": 11,
   "metadata": {
    "colab": {},
    "colab_type": "code",
    "id": "oZTImqg_CaW1"
   },
   "outputs": [
    {
     "data": {
      "image/png": "[encoded data removed]",
      "text/plain": [
       "<Figure size 720x720 with 25 Axes>"
      ]
     },
     "metadata": {},
     "output_type": "display_data"
    }
   ],
   "source": [
    "plt.figure(figsize=(10,10))\n",
    "for i in range(25):\n",
    "    plt.subplot(5,5,i+1)\n",
    "    plt.xticks([])\n",
    "    plt.yticks([])\n",
    "    plt.grid(False)\n",
    "    plt.imshow(train_images[i], cmap=plt.cm.binary)\n",
    "    plt.xlabel(class_names[train_labels[i]])\n",
    "plt.show()"
   ]
  },
  {
   "cell_type": "markdown",
   "metadata": {
    "colab_type": "text",
    "id": "59veuiEZCaW4"
   },
   "source": [
    "## Build the model\n",
    "\n",
    "Building the neural network requires configuring the layers of the model, then compiling the model."
   ]
  },
  {
   "cell_type": "markdown",
   "metadata": {
    "colab_type": "text",
    "id": "Gxg1XGm0eOBy"
   },
   "source": [
    "### Set up the layers\n",
    "\n",
    "The basic building block of a neural network is the *layer*. Layers extract representations from the data fed into them. Hopefully, these representations are meaningful for the problem at hand.\n",
    "\n",
    "Most of deep learning consists of chaining together simple layers. Most layers, such as `tf.keras.layers.Dense`, have parameters that are learned during training."
   ]
  },
  {
   "cell_type": "code",
   "execution_count": 12,
   "metadata": {
    "colab": {},
    "colab_type": "code",
    "id": "9ODch-OFCaW4"
   },
   "outputs": [],
   "source": [
    "model = keras.Sequential([\n",
    "    keras.layers.Flatten(input_shape=(28, 28)),\n",
    "    keras.layers.Dense(128, activation='relu'),\n",
    "    keras.layers.Dense(10)\n",
    "])"
   ]
  },
  {
   "cell_type": "markdown",
   "metadata": {
    "colab_type": "text",
    "id": "gut8A_7rCaW6"
   },
   "source": [
    "The first layer in this network, `tf.keras.layers.Flatten`, transforms the format of the images from a two-dimensional array (of 28 by 28 pixels) to a one-dimensional array (of 28 * 28 = 784 pixels). Think of this layer as unstacking rows of pixels in the image and lining them up. This layer has no parameters to learn; it only reformats the data.\n",
    "\n",
    "After the pixels are flattened, the network consists of a sequence of two `tf.keras.layers.Dense` layers. These are densely connected, or fully connected, neural layers. The first `Dense` layer has 128 nodes (or neurons). The second (and last) layer is a 10-node *softmax* layer that returns an array of 10 probability scores that sum to 1. Each node contains a score that indicates the probability that the current image belongs to one of the 10 classes.\n",
    "\n",
    "### Compile the model\n",
    "\n",
    "Before the model is ready for training, it needs a few more settings. These are added during the model's *compile* step:\n",
    "\n",
    "* *Loss function* —This measures how accurate the model is during training. You want to minimize this function to \"steer\" the model in the right direction.\n",
    "* *Optimizer* —This is how the model is updated based on the data it sees and its loss function.\n",
    "* *Metrics* —Used to monitor the training and testing steps. The following example uses *accuracy*, the fraction of the images that are correctly classified."
   ]
  },
  {
   "cell_type": "code",
   "execution_count": 13,
   "metadata": {
    "colab": {},
    "colab_type": "code",
    "id": "Lhan11blCaW7"
   },
   "outputs": [],
   "source": [
    "model.compile(optimizer='adam',\n",
    "              loss=tf.keras.losses.SparseCategoricalCrossentropy(from_logits=True),\n",
    "              metrics=['accuracy'])"
   ]
  },
  {
   "cell_type": "markdown",
   "metadata": {
    "colab_type": "text",
    "id": "qKF6uW-BCaW-"
   },
   "source": [
    "## Train the model\n",
    "\n",
    "Training the neural network model requires the following steps:\n",
    "\n",
    "1. Feed the training data to the model. In this example, the training data is in the `train_images` and `train_labels` arrays.\n",
    "2. The model learns to associate images and labels.\n",
    "3. You ask the model to make predictions about a test set—in this example, the `test_images` array.\n",
    "4. Verify that the predictions match the labels from the `test_labels` array.\n",
    "\n"
   ]
  },
  {
   "cell_type": "markdown",
   "metadata": {
    "colab_type": "text",
    "id": "Z4P4zIV7E28Z"
   },
   "source": [
    "### Feed the model\n",
    "\n",
    "To start training,  call the `model.fit` method—so called because it \"fits\" the model to the training data:"
   ]
  },
  {
   "cell_type": "code",
   "execution_count": 21,
   "metadata": {
    "colab": {},
    "colab_type": "code",
    "id": "xvwvpA64CaW_"
   },
   "outputs": [
    {
     "name": "stdout",
     "output_type": "stream",
     "text": [
      "Train on 60000 samples, validate on 10000 samples\n",
      "Epoch 1/10\n",
      "60000/60000 [==============================] - 9s 148us/sample - loss: 0.1760 - accuracy: 0.9330 - val_loss: 0.3669 - val_accuracy: 0.8875\n",
      "Epoch 2/10\n",
      "60000/60000 [==============================] - 11s 181us/sample - loss: 0.1730 - accuracy: 0.9351 - val_loss: 0.3523 - val_accuracy: 0.8912\n",
      "Epoch 3/10\n",
      "60000/60000 [==============================] - 9s 155us/sample - loss: 0.1688 - accuracy: 0.9356 - val_loss: 0.3496 - val_accuracy: 0.8908\n",
      "Epoch 4/10\n",
      "60000/60000 [==============================] - 9s 144us/sample - loss: 0.1645 - accuracy: 0.9379 - val_loss: 0.3637 - val_accuracy: 0.8844\n",
      "Epoch 5/10\n",
      "60000/60000 [==============================] - 10s 164us/sample - loss: 0.1615 - accuracy: 0.9392 - val_loss: 0.3904 - val_accuracy: 0.8832\n",
      "Epoch 6/10\n",
      "60000/60000 [==============================] - 10s 170us/sample - loss: 0.1554 - accuracy: 0.9419 - val_loss: 0.3665 - val_accuracy: 0.8910\n",
      "Epoch 7/10\n",
      "60000/60000 [==============================] - 11s 175us/sample - loss: 0.1534 - accuracy: 0.9418 - val_loss: 0.3717 - val_accuracy: 0.8891\n",
      "Epoch 8/10\n",
      "60000/60000 [==============================] - 10s 158us/sample - loss: 0.1526 - accuracy: 0.9426 - val_loss: 0.3612 - val_accuracy: 0.8919\n",
      "Epoch 9/10\n",
      "60000/60000 [==============================] - 10s 169us/sample - loss: 0.1497 - accuracy: 0.9426 - val_loss: 0.3787 - val_accuracy: 0.8862\n",
      "Epoch 10/10\n",
      "60000/60000 [==============================] - 10s 159us/sample - loss: 0.1456 - accuracy: 0.9452 - val_loss: 0.3951 - val_accuracy: 0.8889\n"
     ]
    }
   ],
   "source": [
    "history=model.fit(train_images, train_labels, epochs=10,validation_data=(test_images,test_labels))"
   ]
  },
  {
   "cell_type": "markdown",
   "metadata": {
    "colab_type": "text",
    "id": "W3ZVOhugCaXA"
   },
   "source": [
    "As the model trains, the loss and accuracy metrics are displayed. This model reaches an accuracy of about 0.91 (or 91%) on the training data."
   ]
  },
  {
   "cell_type": "markdown",
   "metadata": {
    "colab_type": "text",
    "id": "wCpr6DGyE28h"
   },
   "source": [
    "### Evaluate accuracy\n",
    "\n",
    "Next, compare how the model performs on the test dataset:"
   ]
  },
  {
   "cell_type": "code",
   "execution_count": 22,
   "metadata": {
    "colab": {},
    "colab_type": "code",
    "id": "VflXLEeECaXC"
   },
   "outputs": [
    {
     "name": "stdout",
     "output_type": "stream",
     "text": [
      "10000/1 - 0s - loss: 0.2148 - accuracy: 0.8889\n",
      "\n",
      "Test accuracy: 0.8889\n"
     ]
    }
   ],
   "source": [
    "test_loss, test_acc = model.evaluate(test_images,  test_labels, verbose=2)\n",
    "\n",
    "print('\\nTest accuracy:', test_acc)"
   ]
  },
  {
   "cell_type": "markdown",
   "metadata": {
    "colab_type": "text",
    "id": "yWfgsmVXCaXG"
   },
   "source": [
    "It turns out that the accuracy on the test dataset is a little less than the accuracy on the training dataset. This gap between training accuracy and test accuracy represents *overfitting*. Overfitting is when a machine learning model performs worse on new, previously unseen inputs than on the training data. An overfitted model \"memorizes\" the training data—with less accuracy on testing data."
   ]
  },
  {
   "cell_type": "markdown",
   "metadata": {},
   "source": [
    "### Evaluate Performance"
   ]
  },
  {
   "cell_type": "code",
   "execution_count": 23,
   "metadata": {},
   "outputs": [
    {
     "data": {
      "image/png": "[encoded data removed]",
      "text/plain": [
       "<Figure size 432x288 with 1 Axes>"
      ]
     },
     "metadata": {
      "needs_background": "light"
     },
     "output_type": "display_data"
    }
   ],
   "source": [
    "plt.plot(range(1,1+len(history.history['accuracy'])), history.history['accuracy'])\n",
    "plt.plot(range(1,1+len(history.history['val_accuracy'])), history.history['val_accuracy'])\n",
    "plt.title('Model Accuracy vs Number of Epochs')\n",
    "plt.ylabel('Accuracy')\n",
    "plt.xlabel('Epoch Number')\n",
    "plt.legend(['train', 'test'], loc='best')\n",
    "plt.xticks(np.arange(0,28,2))\n",
    "plt.show()"
   ]
  },
  {
   "cell_type": "markdown",
   "metadata": {},
   "source": [
    "### Inspecting the output\n",
    "It's always a good idea to inspect the output. Here we'll look at some examples the model gets right, and some examples it gets wrong."
   ]
  },
  {
   "cell_type": "code",
   "execution_count": 30,
   "metadata": {},
   "outputs": [],
   "source": [
    "class_labels_dict = {0:\"T-shirt/top\",1:\"Trouser\",2:\"Pullover\",3:\"Dress\",4:\"Coat\",5:\"Sandal\",6:\"Shirt\",7:\"Sneaker\",8:\"Bag\",9:\"Ankle boot\"}"
   ]
  },
  {
   "cell_type": "code",
   "execution_count": 31,
   "metadata": {},
   "outputs": [],
   "source": [
    "y_pred = model.predict_classes(test_images)\n",
    "\n",
    "# Check which items we got right / wrong\n",
    "correct_indices = np.nonzero(y_pred == test_labels)[0]\n",
    "incorrect_indices = np.nonzero(y_pred != test_labels)[0]"
   ]
  },
  {
   "cell_type": "code",
   "execution_count": 33,
   "metadata": {},
   "outputs": [
    {
     "data": {
      "image/png": "[encoded data removed]",
      "text/plain": [
       "<Figure size 576x576 with 9 Axes>"
      ]
     },
     "metadata": {
      "needs_background": "light"
     },
     "output_type": "display_data"
    }
   ],
   "source": [
    "plt.figure(figsize=(8,8))\n",
    "\n",
    "for i, correct in enumerate(correct_indices[:9]):\n",
    "    plt.subplot(3,3,i+1)\n",
    "    plt.imshow(test_images[correct].reshape(28,28), cmap='gray', interpolation='none')\n",
    "    plt.title(\"Predicted:{}\\nActual:{}\".format(class_labels_dict[y_pred[correct]],class_labels_dict[test_labels[correct]]))\n",
    "\n",
    "plt.tight_layout()"
   ]
  },
  {
   "cell_type": "code",
   "execution_count": 35,
   "metadata": {},
   "outputs": [
    {
     "data": {
      "image/png": "[encoded data removed]",
      "text/plain": [
       "<Figure size 576x576 with 9 Axes>"
      ]
     },
     "metadata": {
      "needs_background": "light"
     },
     "output_type": "display_data"
    }
   ],
   "source": [
    "plt.figure(figsize=(8,8))\n",
    "for i, incorrect in enumerate(incorrect_indices[:9]):\n",
    "    plt.subplot(3,3,i+1)\n",
    "    plt.imshow(test_images[incorrect].reshape(28,28), cmap='gray', interpolation='none')\n",
    "    plt.title(\"Predicted: {}\\n Actual: {}\".format(class_labels_dict[y_pred[incorrect]], class_labels_dict[test_labels[incorrect]]))\n",
    "    \n",
    "plt.tight_layout()"
   ]
  },
  {
   "cell_type": "markdown",
   "metadata": {},
   "source": [
    "# Change the Model"
   ]
  },
  {
   "cell_type": "code",
   "execution_count": 72,
   "metadata": {},
   "outputs": [],
   "source": [
    "from tensorflow.keras.models import Sequential\n",
    "from tensorflow.keras.layers import Conv2D\n",
    "from tensorflow.keras.layers import BatchNormalization\n",
    "from tensorflow.keras.layers import MaxPooling2D\n",
    "from tensorflow.keras.layers import Activation\n",
    "from tensorflow.keras.layers import Flatten\n",
    "from tensorflow.keras.layers import Dropout\n",
    "from tensorflow.keras.layers import Dense\n",
    "from tensorflow.keras.optimizers import SGD"
   ]
  },
  {
   "cell_type": "code",
   "execution_count": 73,
   "metadata": {},
   "outputs": [],
   "source": [
    "chanDim=-1\n",
    "classes=10\n",
    "deepModel = keras.Sequential()\n",
    "\n",
    "deepModel.add(Conv2D(32, (3, 3), padding=\"same\",input_shape=(28, 28,1)))\n",
    "deepModel.add(Activation(\"relu\"))\n",
    "deepModel.add(BatchNormalization(axis=chanDim))\n",
    "deepModel.add(Conv2D(32, (3, 3), padding=\"same\"))\n",
    "deepModel.add(Activation(\"relu\"))\n",
    "deepModel.add(BatchNormalization(axis=chanDim))\n",
    "deepModel.add(MaxPooling2D(pool_size=(2, 2)))\n",
    "deepModel.add(Dropout(0.25))\n",
    "# second CONV => RELU => CONV => RELU => POOL layer set\n",
    "deepModel.add(Conv2D(64, (3, 3), padding=\"same\"))\n",
    "deepModel.add(Activation(\"relu\"))\n",
    "deepModel.add(BatchNormalization(axis=chanDim))\n",
    "deepModel.add(Conv2D(64, (3, 3), padding=\"same\"))\n",
    "deepModel.add(Activation(\"relu\"))\n",
    "deepModel.add(BatchNormalization(axis=chanDim))\n",
    "deepModel.add(MaxPooling2D(pool_size=(2, 2)))\n",
    "deepModel.add(Dropout(0.25))\n",
    "# first (and only) set of FC => RELU layers\n",
    "deepModel.add(Flatten())\n",
    "deepModel.add(Dense(512))\n",
    "deepModel.add(Activation(\"relu\"))\n",
    "deepModel.add(BatchNormalization())\n",
    "deepModel.add(Dropout(0.5))\n",
    "# softmax classifier\n",
    "deepModel.add(Dense(classes))\n",
    "deepModel.add(Activation(\"softmax\"))\n"
   ]
  },
  {
   "cell_type": "code",
   "execution_count": 76,
   "metadata": {},
   "outputs": [],
   "source": [
    "NUM_EPOCHS = 25\n",
    "INIT_LR = 1e-2\n",
    "BS = 32\n",
    "model.compile(loss=tf.keras.losses.SparseCategoricalCrossentropy(from_logits=True),\n",
    "              optimizer=SGD(lr=INIT_LR, momentum=0.9, decay=INIT_LR / NUM_EPOCHS),metrics=[\"accuracy\"])"
   ]
  },
  {
   "cell_type": "code",
   "execution_count": 77,
   "metadata": {
    "scrolled": true
   },
   "outputs": [
    {
     "name": "stdout",
     "output_type": "stream",
     "text": [
      "Train on 60000 samples, validate on 10000 samples\n",
      "Epoch 1/25\n",
      "60000/60000 [==============================] - 36s 603us/sample - loss: 1.6681 - accuracy: 0.7932 - val_loss: 1.5944 - val_accuracy: 0.8664\n",
      "Epoch 2/25\n",
      "60000/60000 [==============================] - 33s 556us/sample - loss: 1.5861 - accuracy: 0.8751 - val_loss: 1.5908 - val_accuracy: 0.8696\n",
      "Epoch 3/25\n",
      "60000/60000 [==============================] - 34s 562us/sample - loss: 1.5726 - accuracy: 0.8884 - val_loss: 1.5789 - val_accuracy: 0.8820\n",
      "Epoch 4/25\n",
      "60000/60000 [==============================] - 37s 622us/sample - loss: 1.5640 - accuracy: 0.8970 - val_loss: 1.5826 - val_accuracy: 0.8780\n",
      "Epoch 5/25\n",
      "60000/60000 [==============================] - 34s 566us/sample - loss: 1.5612 - accuracy: 0.8996 - val_loss: 1.5791 - val_accuracy: 0.8816\n",
      "Epoch 6/25\n",
      "60000/60000 [==============================] - 35s 589us/sample - loss: 1.5535 - accuracy: 0.9076 - val_loss: 1.5750 - val_accuracy: 0.8857\n",
      "Epoch 7/25\n",
      "60000/60000 [==============================] - 34s 573us/sample - loss: 1.5482 - accuracy: 0.9127 - val_loss: 1.5738 - val_accuracy: 0.8869\n",
      "Epoch 8/25\n",
      "60000/60000 [==============================] - 31s 522us/sample - loss: 1.5458 - accuracy: 0.9153 - val_loss: 1.5721 - val_accuracy: 0.8888\n",
      "Epoch 9/25\n",
      "60000/60000 [==============================] - 25s 421us/sample - loss: 1.5435 - accuracy: 0.9176 - val_loss: 1.5715 - val_accuracy: 0.8894\n",
      "Epoch 10/25\n",
      "60000/60000 [==============================] - 35s 589us/sample - loss: 1.5402 - accuracy: 0.9208 - val_loss: 1.5720 - val_accuracy: 0.8887\n",
      "Epoch 11/25\n",
      "60000/60000 [==============================] - 38s 629us/sample - loss: 1.5402 - accuracy: 0.9208 - val_loss: 1.5700 - val_accuracy: 0.8909\n",
      "Epoch 12/25\n",
      "60000/60000 [==============================] - 35s 583us/sample - loss: 1.5385 - accuracy: 0.9225 - val_loss: 1.5682 - val_accuracy: 0.8931\n",
      "Epoch 13/25\n",
      "60000/60000 [==============================] - 31s 511us/sample - loss: 1.5383 - accuracy: 0.9226 - val_loss: 1.5706 - val_accuracy: 0.8905\n",
      "Epoch 14/25\n",
      "60000/60000 [==============================] - 34s 570us/sample - loss: 1.5358 - accuracy: 0.9252 - val_loss: 1.5707 - val_accuracy: 0.8903\n",
      "Epoch 15/25\n",
      "60000/60000 [==============================] - 41s 690us/sample - loss: 1.5356 - accuracy: 0.9254 - val_loss: 1.5685 - val_accuracy: 0.8931\n",
      "Epoch 16/25\n",
      "60000/60000 [==============================] - 39s 643us/sample - loss: 1.5349 - accuracy: 0.9262 - val_loss: 1.5680 - val_accuracy: 0.8930\n",
      "Epoch 17/25\n",
      "60000/60000 [==============================] - 35s 591us/sample - loss: 1.5336 - accuracy: 0.9274 - val_loss: 1.5702 - val_accuracy: 0.8909\n",
      "Epoch 18/25\n",
      "60000/60000 [==============================] - 40s 669us/sample - loss: 1.5318 - accuracy: 0.9294 - val_loss: 1.5684 - val_accuracy: 0.8925\n",
      "Epoch 19/25\n",
      "60000/60000 [==============================] - 38s 628us/sample - loss: 1.5324 - accuracy: 0.9286 - val_loss: 1.5662 - val_accuracy: 0.8951\n",
      "Epoch 20/25\n",
      "60000/60000 [==============================] - 41s 681us/sample - loss: 1.5283 - accuracy: 0.9326 - val_loss: 1.5689 - val_accuracy: 0.8917\n",
      "Epoch 21/25\n",
      "60000/60000 [==============================] - 40s 665us/sample - loss: 1.5312 - accuracy: 0.9299 - val_loss: 1.5664 - val_accuracy: 0.8947\n",
      "Epoch 22/25\n",
      "60000/60000 [==============================] - 38s 641us/sample - loss: 1.5279 - accuracy: 0.9331 - val_loss: 1.5673 - val_accuracy: 0.8940\n",
      "Epoch 23/25\n",
      "60000/60000 [==============================] - 40s 667us/sample - loss: 1.5278 - accuracy: 0.9332 - val_loss: 1.5677 - val_accuracy: 0.8935\n",
      "Epoch 24/25\n",
      "60000/60000 [==============================] - 39s 652us/sample - loss: 1.5278 - accuracy: 0.9332 - val_loss: 1.5654 - val_accuracy: 0.8955\n",
      "Epoch 25/25\n",
      "60000/60000 [==============================] - 40s 674us/sample - loss: 1.5287 - accuracy: 0.9323 - val_loss: 1.5670 - val_accuracy: 0.8939\n"
     ]
    }
   ],
   "source": [
    "H = model.fit(train_images, train_labels,validation_data=(test_images,test_labels),batch_size=BS,\n",
    "              epochs=NUM_EPOCHS)"
   ]
  },
  {
   "cell_type": "markdown",
   "metadata": {},
   "source": [
    "### Evaluate accuracy"
   ]
  },
  {
   "cell_type": "code",
   "execution_count": 78,
   "metadata": {},
   "outputs": [
    {
     "name": "stdout",
     "output_type": "stream",
     "text": [
      "10000/1 - 1s - loss: 1.5453 - accuracy: 0.8939\n",
      "\n",
      "Test accuracy: 0.8939\n"
     ]
    }
   ],
   "source": [
    "test_loss, test_acc = model.evaluate(test_images,  test_labels, verbose=2)\n",
    "\n",
    "print('\\nTest accuracy:', test_acc)"
   ]
  },
  {
   "cell_type": "markdown",
   "metadata": {},
   "source": [
    "### Evaluate Performance"
   ]
  },
  {
   "cell_type": "code",
   "execution_count": 79,
   "metadata": {},
   "outputs": [
    {
     "data": {
      "image/png": "[encoded data removed]",
      "text/plain": [
       "<Figure size 432x288 with 1 Axes>"
      ]
     },
     "metadata": {
      "needs_background": "light"
     },
     "output_type": "display_data"
    }
   ],
   "source": [
    "plt.plot(range(1,1+len(H.history['accuracy'])), H.history['accuracy'])\n",
    "plt.plot(range(1,1+len(H.history['val_accuracy'])), H.history['val_accuracy'])\n",
    "plt.title('Model Accuracy vs Number of Epochs')\n",
    "plt.ylabel('Accuracy')\n",
    "plt.xlabel('Epoch Number')\n",
    "plt.legend(['train', 'test'], loc='best')\n",
    "plt.xticks(np.arange(0,28,2))\n",
    "plt.show()"
   ]
  },
  {
   "cell_type": "markdown",
   "metadata": {},
   "source": [
    "### Inspecting the output"
   ]
  },
  {
   "cell_type": "code",
   "execution_count": 81,
   "metadata": {},
   "outputs": [
    {
     "name": "stdout",
     "output_type": "stream",
     "text": [
      "              precision    recall  f1-score   support\n",
      "\n",
      " T-shirt/top       0.80      0.86      0.83      1000\n",
      "     Trouser       0.99      0.97      0.98      1000\n",
      "    Pullover       0.84      0.76      0.80      1000\n",
      "       Dress       0.94      0.84      0.89      1000\n",
      "        Coat       0.78      0.86      0.82      1000\n",
      "      Sandal       0.98      0.96      0.97      1000\n",
      "       Shirt       0.70      0.74      0.72      1000\n",
      "     Sneaker       0.95      0.97      0.96      1000\n",
      "         Bag       0.98      0.97      0.97      1000\n",
      "  Ankle boot       0.95      0.97      0.96      1000\n",
      "\n",
      "    accuracy                           0.89     10000\n",
      "   macro avg       0.89      0.89      0.89     10000\n",
      "weighted avg       0.89      0.89      0.89     10000\n",
      "\n"
     ]
    }
   ],
   "source": [
    "from sklearn.metrics import classification_report, confusion_matrix\n",
    "target_names = [class_labels_dict[x] for x in range(0,10)]\n",
    "print(classification_report(test_labels, y_pred, target_names=target_names))"
   ]
  },
  {
   "cell_type": "code",
   "execution_count": 85,
   "metadata": {},
   "outputs": [
    {
     "data": {
      "text/html": [
       "<div>\n",
       "<style scoped>\n",
       "    .dataframe tbody tr th:only-of-type {\n",
       "        vertical-align: middle;\n",
       "    }\n",
       "\n",
       "    .dataframe tbody tr th {\n",
       "        vertical-align: top;\n",
       "    }\n",
       "\n",
       "    .dataframe thead th {\n",
       "        text-align: right;\n",
       "    }\n",
       "</style>\n",
       "<table border=\"1\" class=\"dataframe\">\n",
       "  <thead>\n",
       "    <tr style=\"text-align: right;\">\n",
       "      <th>Actual</th>\n",
       "      <th>T-shirt/top</th>\n",
       "      <th>Trouser</th>\n",
       "      <th>Pullover</th>\n",
       "      <th>Dress</th>\n",
       "      <th>Coat</th>\n",
       "      <th>Sandal</th>\n",
       "      <th>Shirt</th>\n",
       "      <th>Sneaker</th>\n",
       "      <th>Bag</th>\n",
       "      <th>Ankle boot</th>\n",
       "    </tr>\n",
       "    <tr>\n",
       "      <th>Predicted</th>\n",
       "      <th></th>\n",
       "      <th></th>\n",
       "      <th></th>\n",
       "      <th></th>\n",
       "      <th></th>\n",
       "      <th></th>\n",
       "      <th></th>\n",
       "      <th></th>\n",
       "      <th></th>\n",
       "      <th></th>\n",
       "    </tr>\n",
       "  </thead>\n",
       "  <tbody>\n",
       "    <tr>\n",
       "      <td>T-shirt/top</td>\n",
       "      <td>859</td>\n",
       "      <td>1</td>\n",
       "      <td>15</td>\n",
       "      <td>10</td>\n",
       "      <td>5</td>\n",
       "      <td>2</td>\n",
       "      <td>103</td>\n",
       "      <td>0</td>\n",
       "      <td>5</td>\n",
       "      <td>0</td>\n",
       "    </tr>\n",
       "    <tr>\n",
       "      <td>Trouser</td>\n",
       "      <td>4</td>\n",
       "      <td>974</td>\n",
       "      <td>0</td>\n",
       "      <td>9</td>\n",
       "      <td>5</td>\n",
       "      <td>0</td>\n",
       "      <td>6</td>\n",
       "      <td>0</td>\n",
       "      <td>1</td>\n",
       "      <td>1</td>\n",
       "    </tr>\n",
       "    <tr>\n",
       "      <td>Pullover</td>\n",
       "      <td>22</td>\n",
       "      <td>0</td>\n",
       "      <td>760</td>\n",
       "      <td>7</td>\n",
       "      <td>113</td>\n",
       "      <td>1</td>\n",
       "      <td>96</td>\n",
       "      <td>0</td>\n",
       "      <td>1</td>\n",
       "      <td>0</td>\n",
       "    </tr>\n",
       "    <tr>\n",
       "      <td>Dress</td>\n",
       "      <td>51</td>\n",
       "      <td>9</td>\n",
       "      <td>12</td>\n",
       "      <td>840</td>\n",
       "      <td>49</td>\n",
       "      <td>0</td>\n",
       "      <td>34</td>\n",
       "      <td>0</td>\n",
       "      <td>5</td>\n",
       "      <td>0</td>\n",
       "    </tr>\n",
       "    <tr>\n",
       "      <td>Coat</td>\n",
       "      <td>2</td>\n",
       "      <td>1</td>\n",
       "      <td>62</td>\n",
       "      <td>10</td>\n",
       "      <td>858</td>\n",
       "      <td>0</td>\n",
       "      <td>66</td>\n",
       "      <td>0</td>\n",
       "      <td>1</td>\n",
       "      <td>0</td>\n",
       "    </tr>\n",
       "    <tr>\n",
       "      <td>Sandal</td>\n",
       "      <td>0</td>\n",
       "      <td>0</td>\n",
       "      <td>0</td>\n",
       "      <td>1</td>\n",
       "      <td>0</td>\n",
       "      <td>956</td>\n",
       "      <td>0</td>\n",
       "      <td>22</td>\n",
       "      <td>0</td>\n",
       "      <td>21</td>\n",
       "    </tr>\n",
       "    <tr>\n",
       "      <td>Shirt</td>\n",
       "      <td>125</td>\n",
       "      <td>0</td>\n",
       "      <td>55</td>\n",
       "      <td>9</td>\n",
       "      <td>69</td>\n",
       "      <td>0</td>\n",
       "      <td>736</td>\n",
       "      <td>0</td>\n",
       "      <td>6</td>\n",
       "      <td>0</td>\n",
       "    </tr>\n",
       "    <tr>\n",
       "      <td>Sneaker</td>\n",
       "      <td>0</td>\n",
       "      <td>0</td>\n",
       "      <td>0</td>\n",
       "      <td>0</td>\n",
       "      <td>0</td>\n",
       "      <td>7</td>\n",
       "      <td>0</td>\n",
       "      <td>968</td>\n",
       "      <td>1</td>\n",
       "      <td>24</td>\n",
       "    </tr>\n",
       "    <tr>\n",
       "      <td>Bag</td>\n",
       "      <td>7</td>\n",
       "      <td>0</td>\n",
       "      <td>4</td>\n",
       "      <td>3</td>\n",
       "      <td>3</td>\n",
       "      <td>2</td>\n",
       "      <td>6</td>\n",
       "      <td>5</td>\n",
       "      <td>970</td>\n",
       "      <td>0</td>\n",
       "    </tr>\n",
       "    <tr>\n",
       "      <td>Ankle boot</td>\n",
       "      <td>0</td>\n",
       "      <td>0</td>\n",
       "      <td>0</td>\n",
       "      <td>0</td>\n",
       "      <td>0</td>\n",
       "      <td>4</td>\n",
       "      <td>1</td>\n",
       "      <td>27</td>\n",
       "      <td>0</td>\n",
       "      <td>968</td>\n",
       "    </tr>\n",
       "  </tbody>\n",
       "</table>\n",
       "</div>"
      ],
      "text/plain": [
       "Actual       T-shirt/top  Trouser  Pullover  Dress  Coat  Sandal  Shirt  \\\n",
       "Predicted                                                                 \n",
       "T-shirt/top          859        1        15     10     5       2    103   \n",
       "Trouser                4      974         0      9     5       0      6   \n",
       "Pullover              22        0       760      7   113       1     96   \n",
       "Dress                 51        9        12    840    49       0     34   \n",
       "Coat                   2        1        62     10   858       0     66   \n",
       "Sandal                 0        0         0      1     0     956      0   \n",
       "Shirt                125        0        55      9    69       0    736   \n",
       "Sneaker                0        0         0      0     0       7      0   \n",
       "Bag                    7        0         4      3     3       2      6   \n",
       "Ankle boot             0        0         0      0     0       4      1   \n",
       "\n",
       "Actual       Sneaker  Bag  Ankle boot  \n",
       "Predicted                              \n",
       "T-shirt/top        0    5           0  \n",
       "Trouser            0    1           1  \n",
       "Pullover           0    1           0  \n",
       "Dress              0    5           0  \n",
       "Coat               0    1           0  \n",
       "Sandal            22    0          21  \n",
       "Shirt              0    6           0  \n",
       "Sneaker          968    1          24  \n",
       "Bag                5  970           0  \n",
       "Ankle boot        27    0         968  "
      ]
     },
     "execution_count": 85,
     "metadata": {},
     "output_type": "execute_result"
    }
   ],
   "source": [
    "matrix = pd.DataFrame(confusion_matrix(test_labels, y_pred), index=target_names, columns=target_names)\n",
    "matrix.index.name = 'Predicted'\n",
    "matrix.columns.name = 'Actual'\n",
    "matrix"
   ]
  },
  {
   "cell_type": "code",
   "execution_count": null,
   "metadata": {},
   "outputs": [],
   "source": []
  }
 ],
 "metadata": {
  "colab": {
   "collapsed_sections": [],
   "name": "classification.ipynb",
   "private_outputs": true,
   "provenance": [],
   "toc_visible": true
  },
  "kernelspec": {
   "display_name": "Python 3",
   "language": "python",
   "name": "python3"
  },
  "language_info": {
   "codemirror_mode": {
    "name": "ipython",
    "version": 3
   },
   "file_extension": ".py",
   "mimetype": "text/x-python",
   "name": "python",
   "nbconvert_exporter": "python",
   "pygments_lexer": "ipython3",
   "version": "3.7.4"
  }
 },
 "nbformat": 4,
 "nbformat_minor": 1
}
